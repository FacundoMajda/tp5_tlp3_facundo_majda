{
 "cells": [
  {
   "cell_type": "markdown",
   "id": "498731c6",
   "metadata": {},
   "source": [
    "# Actividad - Trabajando con Series de Pandas.\n",
    "\n",
    "## Criterios de evaluación.\n",
    "\n",
    "- Se deben utilizar nombres de variables descriptivos y claros (Utilizar la nomeclatura correspondiente para los nombres de variables).\n",
    "- Comentarios claros y concisos que expliquen el propósito de cada sección del código.\n",
    "- Utilizar mensajes de commit **descriptivos**. (Puedes utilizar la extension CONVENTIONAL COMMIT de VS-CODE).\n",
    "- Entrega en tiempo y forma.\n",
    "- Todo el código desarrollado debe ser subido a un repositorio en GitHub (el nombre del repositorio de seguir la siguiente estructura: actividad_tlp3_nombre_apellido).\n",
    "- Para resolver las actividades se debe insertar casillas de codigo entre cada actividad del cuaderno de Jupyter\n",
    "\n",
    "### ¡Importante!\n",
    "\n",
    "**El incumplimiento de los criterios de evaluación restará puntos en la nota final del práctico!**\n"
   ]
  },
  {
   "cell_type": "markdown",
   "id": "b361a7b6",
   "metadata": {},
   "source": [
    "### **Actividad 1:**\n",
    "\n",
    "Crear Series desde diferentes estructuras.\n",
    "\n",
    "- Crea una Series con los números del 1 al 5\n",
    "- Crea una Series a partir de un diccionario con nombres de países como claves y sus capitales como valores.\n"
   ]
  },
  {
   "cell_type": "code",
   "execution_count": 4,
   "id": "26009294",
   "metadata": {},
   "outputs": [
    {
     "data": {
      "text/plain": [
       "(0    1\n",
       " 1    2\n",
       " 2    3\n",
       " 3    4\n",
       " 4    5\n",
       " dtype: int64,\n",
       " Argentina    Buenos Aires\n",
       " Paraguay         Asuncion\n",
       " Chile            Santiago\n",
       " Uruguay        Montevideo\n",
       " dtype: object)"
      ]
     },
     "execution_count": 4,
     "metadata": {},
     "output_type": "execute_result"
    }
   ],
   "source": [
    "import pandas as pd\n",
    "\n",
    "serie_numeros = pd.Series([1, 2, 3, 4, 5])\n",
    "paises = {'Argentina': 'Buenos Aires', 'Paraguay': 'Asuncion', 'Chile': 'Santiago', 'Uruguay': 'Montevideo'}\n",
    "serie_paises = pd.Series(paises)\n",
    "\n",
    "serie_numeros, serie_paises"
   ]
  },
  {
   "cell_type": "markdown",
   "id": "0c239195",
   "metadata": {},
   "source": [
    "### **Actividad 2:**\n",
    "\n",
    "Acceso y selección de elementos.\n",
    "\n",
    "- Usa una Series con tareas (que haceres cotidianos) de una semana\n",
    "- Accede a diferentes elementos a elección.\n",
    "- Cambia los valores de los dias pares.\n"
   ]
  },
  {
   "cell_type": "code",
   "execution_count": null,
   "id": "3611d25a",
   "metadata": {},
   "outputs": [
    {
     "name": "stdout",
     "output_type": "stream",
     "text": [
      "Lunes         Estudiar\n",
      "Martes        Trabajar\n",
      "Miércoles    Ejercicio\n",
      "Jueves         Cocinar\n",
      "Viernes        Compras\n",
      "Sábado       Descansar\n",
      "Domingo        Limpiar\n",
      "dtype: object\n",
      "Estudiar\n",
      "Miércoles    Ejercicio\n",
      "Viernes        Compras\n",
      "dtype: object\n",
      "Lunes         Estudiar\n",
      "Martes            Leer\n",
      "Miércoles    Ejercicio\n",
      "Jueves            Cine\n",
      "Viernes        Compras\n",
      "Sábado          Pasear\n",
      "Domingo        Limpiar\n",
      "dtype: object\n"
     ]
    }
   ],
   "source": [
    "tareas = pd.Series(['Estudiar', 'Trabajar', 'Ejercicio', 'Cocinar', 'Compras', 'Descansar', 'Limpiar'], index=['Lunes', 'Martes', 'Miércoles', 'Jueves', 'Viernes', 'Sábado', 'Domingo'])\n",
    "print(tareas)\n",
    "\n",
    "print(tareas['Lunes'])\n",
    "print(tareas[['Miércoles', 'Viernes']])\n",
    "\n",
    "tareas['Martes'] = 'Leer'\n",
    "tareas['Jueves'] = 'Cine'\n",
    "tareas['Sábado'] = 'Pasear'\n",
    "print(tareas)"
   ]
  },
  {
   "cell_type": "markdown",
   "id": "70a24b97",
   "metadata": {},
   "source": [
    "### **Actividad 3:**\n",
    "\n",
    "Operaciones aritméticas.\n",
    "\n",
    "- Realiza las operaciones basicas con 2 series cuales quieran.\n",
    "- Eleva los valores de la primer serie a 3 potencias difetentes.\n"
   ]
  },
  {
   "cell_type": "code",
   "execution_count": 6,
   "id": "a9c8ebc7",
   "metadata": {},
   "outputs": [
    {
     "name": "stdout",
     "output_type": "stream",
     "text": [
      "Suma:\n",
      "0    15\n",
      "1    30\n",
      "2    45\n",
      "3    60\n",
      "4    75\n",
      "dtype: int64\n",
      "\n",
      "Resta:\n",
      "0     5\n",
      "1    10\n",
      "2    15\n",
      "3    20\n",
      "4    25\n",
      "dtype: int64\n",
      "\n",
      "Multiplicación:\n",
      "0      50\n",
      "1     200\n",
      "2     450\n",
      "3     800\n",
      "4    1250\n",
      "dtype: int64\n",
      "\n",
      "División:\n",
      "0    2.0\n",
      "1    2.0\n",
      "2    2.0\n",
      "3    2.0\n",
      "4    2.0\n",
      "dtype: float64\n",
      "\n"
     ]
    }
   ],
   "source": [
    "serie1 = pd.Series([10, 20, 30, 40, 50])\n",
    "serie2 = pd.Series([5, 10, 15, 20, 25])\n",
    "\n",
    "operaciones = {\n",
    "    'Suma': serie1 + serie2,\n",
    "    'Resta': serie1 - serie2,\n",
    "    'Multiplicación': serie1 * serie2,\n",
    "    'División': serie1 / serie2\n",
    "}\n",
    "\n",
    "for nombre, resultado in operaciones.items():\n",
    "    print(f\"{nombre}:\\n{resultado}\\n\")"
   ]
  },
  {
   "cell_type": "code",
   "execution_count": 7,
   "id": "3bc4df23",
   "metadata": {},
   "outputs": [
    {
     "name": "stdout",
     "output_type": "stream",
     "text": [
      "Potencia 2:\n",
      "0     100\n",
      "1     400\n",
      "2     900\n",
      "3    1600\n",
      "4    2500\n",
      "dtype: int64\n",
      "\n",
      "Potencia 3:\n",
      "0      1000\n",
      "1      8000\n",
      "2     27000\n",
      "3     64000\n",
      "4    125000\n",
      "dtype: int64\n",
      "\n",
      "Raíz cuadrada:\n",
      "0    3.162278\n",
      "1    4.472136\n",
      "2    5.477226\n",
      "3    6.324555\n",
      "4    7.071068\n",
      "dtype: float64\n",
      "\n"
     ]
    }
   ],
   "source": [
    "potencias = {\n",
    "    'Potencia 2': serie1 ** 2,\n",
    "    'Potencia 3': serie1 ** 3,\n",
    "    'Raíz cuadrada': serie1 ** 0.5\n",
    "}\n",
    "\n",
    "for nombre, resultado in potencias.items():\n",
    "    print(f\"{nombre}:\\n{resultado}\\n\")"
   ]
  },
  {
   "cell_type": "markdown",
   "id": "b8dac397",
   "metadata": {},
   "source": [
    "### **Actividad 4:**\n",
    "\n",
    "Filtrado con condiciones.\n",
    "\n",
    "- Crea una Series de edades de 10 personas.\n",
    "- Muestra solo a los mayores de 18.\n",
    "- Reemplaza a los menores por \"Menor de edad\".\n"
   ]
  },
  {
   "cell_type": "code",
   "execution_count": null,
   "id": "d04fd492",
   "metadata": {},
   "outputs": [
    {
     "name": "stdout",
     "output_type": "stream",
     "text": [
      "Edades originales:\n",
      "Ana       25\n",
      "Carlos    17\n",
      "Juan      30\n",
      "María     16\n",
      "Pedro     22\n",
      "Laura     19\n",
      "Sofía     15\n",
      "Luis      28\n",
      "Elena     24\n",
      "Miguel    17\n",
      "dtype: int64\n",
      "\n",
      "Mayores de 18:\n",
      "Ana      25\n",
      "Juan     30\n",
      "Pedro    22\n",
      "Laura    19\n",
      "Luis     28\n",
      "Elena    24\n",
      "dtype: int64\n",
      "\n",
      "Edades clasificadas:\n",
      "Ana                  25\n",
      "Carlos    Menor de edad\n",
      "Juan                 30\n",
      "María     Menor de edad\n",
      "Pedro                22\n",
      "Laura                19\n",
      "Sofía     Menor de edad\n",
      "Luis                 28\n",
      "Elena                24\n",
      "Miguel    Menor de edad\n",
      "dtype: object\n"
     ]
    },
    {
     "name": "stderr",
     "output_type": "stream",
     "text": [
      "C:\\Users\\IPF-2025\\AppData\\Local\\Temp\\ipykernel_12984\\2013435984.py:11: FutureWarning: Setting an item of incompatible dtype is deprecated and will raise an error in a future version of pandas. Value 'Menor de edad' has dtype incompatible with int64, please explicitly cast to a compatible dtype first.\n",
      "  edades_clasificadas[edades_clasificadas < 18] = \"Menor de edad\"\n"
     ]
    }
   ],
   "source": [
    "nombres = ['Ana', 'Carlos', 'Juan', 'María', 'Pedro', 'Laura', 'Sofía', 'Luis', 'Elena', 'Miguel']\n",
    "edades = pd.Series([25, 17, 30, 16, 22, 19, 15, 28, 24, 17], index=nombres)\n",
    "\n",
    "print(\"Edades originales:\")\n",
    "print(edades)\n",
    "\n",
    "print(\"\\nMayores de 18:\")\n",
    "print(edades[edades > 18])\n",
    "\n",
    "edades_clasificadas = edades.copy()\n",
    "edades_clasificadas[edades_clasificadas < 18] = \"Menor de edad\"\n",
    "\n",
    "print(\"\\nEdades: \")\n",
    "print(edades_clasificadas)"
   ]
  },
  {
   "cell_type": "markdown",
   "id": "8889d0f2",
   "metadata": {},
   "source": [
    "### Actividad 5:\n",
    "\n",
    "Estadísticas básicas.\n",
    "\n",
    "- Crea una Series con las notas de 10 estudiantes.\n",
    "- Calcula la media, mediana, desviación estándar y máximo.\n",
    "- Muestra cuántos estudiantes aprobaron si el mínimo para aprobar es 6.\n",
    "- Ordenar las notas de manera ascendente y descendente.\n"
   ]
  },
  {
   "cell_type": "code",
   "execution_count": 9,
   "id": "bc0ec844",
   "metadata": {},
   "outputs": [
    {
     "name": "stdout",
     "output_type": "stream",
     "text": [
      "Notas de estudiantes:\n",
      "E1     7.5\n",
      "E2     5.2\n",
      "E3     9.0\n",
      "E4     6.8\n",
      "E5     4.3\n",
      "E6     8.1\n",
      "E7     3.5\n",
      "E8     7.7\n",
      "E9     6.4\n",
      "E10    5.9\n",
      "dtype: float64\n",
      "\n",
      "Media: 6.4399999999999995\n",
      "Mediana: 6.6\n",
      "Desviación estándar: 1.7385817975196527\n",
      "Máximo: 9.0\n",
      "Aprobados: 6\n",
      "\n",
      "Ordenadas ascendente:\n",
      " E7     3.5\n",
      "E5     4.3\n",
      "E2     5.2\n",
      "E10    5.9\n",
      "E9     6.4\n",
      "E4     6.8\n",
      "E1     7.5\n",
      "E8     7.7\n",
      "E6     8.1\n",
      "E3     9.0\n",
      "dtype: float64\n",
      "\n",
      "Ordenadas descendente:\n",
      " E3     9.0\n",
      "E6     8.1\n",
      "E8     7.7\n",
      "E1     7.5\n",
      "E4     6.8\n",
      "E9     6.4\n",
      "E10    5.9\n",
      "E2     5.2\n",
      "E5     4.3\n",
      "E7     3.5\n",
      "dtype: float64\n"
     ]
    }
   ],
   "source": [
    "estudiantes = ['E1', 'E2', 'E3', 'E4', 'E5', 'E6', 'E7', 'E8', 'E9', 'E10']\n",
    "notas = pd.Series([7.5, 5.2, 9.0, 6.8, 4.3, 8.1, 3.5, 7.7, 6.4, 5.9], index=estudiantes)\n",
    "\n",
    "print(f\"Notas de estudiantes:\\n{notas}\\n\")\n",
    "estadisticas = {\n",
    "    'Media': notas.mean(),\n",
    "    'Mediana': notas.median(),\n",
    "    'Desviación estándar': notas.std(),\n",
    "    'Máximo': notas.max(),\n",
    "    'Aprobados': sum(notas >= 6)\n",
    "}\n",
    "\n",
    "for nombre, valor in estadisticas.items():\n",
    "    print(f\"{nombre}: {valor}\")\n",
    "\n",
    "print(\"\\nOrdenadas ascendente:\\n\", notas.sort_values())\n",
    "print(\"\\nOrdenadas descendente:\\n\", notas.sort_values(ascending=False))"
   ]
  }
 ],
 "metadata": {
  "kernelspec": {
   "display_name": "base",
   "language": "python",
   "name": "python3"
  },
  "language_info": {
   "codemirror_mode": {
    "name": "ipython",
    "version": 3
   },
   "file_extension": ".py",
   "mimetype": "text/x-python",
   "name": "python",
   "nbconvert_exporter": "python",
   "pygments_lexer": "ipython3",
   "version": "3.12.7"
  }
 },
 "nbformat": 4,
 "nbformat_minor": 5
}
